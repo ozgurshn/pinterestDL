{
  "nbformat": 4,
  "nbformat_minor": 0,
  "metadata": {
    "colab": {
      "name": "PinterestParser.ipynb",
      "provenance": [],
      "authorship_tag": "ABX9TyMfs5Z1HlwFRoES6Jy3YNgS",
      "include_colab_link": true
    },
    "kernelspec": {
      "name": "python3",
      "display_name": "Python 3"
    }
  },
  "cells": [
    {
      "cell_type": "markdown",
      "metadata": {
        "id": "view-in-github",
        "colab_type": "text"
      },
      "source": [
        "<a href=\"https://colab.research.google.com/github/ozgurshn/pinterestDL/blob/master/PinterestParser.ipynb\" target=\"_parent\"><img src=\"https://colab.research.google.com/assets/colab-badge.svg\" alt=\"Open In Colab\"/></a>"
      ]
    },
    {
      "cell_type": "code",
      "metadata": {
        "id": "i3cENGE22Uwe",
        "colab_type": "code",
        "colab": {
          "base_uri": "https://localhost:8080/",
          "height": 1000
        },
        "outputId": "053b67a6-5189-403c-a884-f2107a8c4154"
      },
      "source": [
        "!git clone https://github.com/ozgurshn/pinterestDL\n",
        "%cd pinterestDL\n",
        "#%cd ..\n",
        "!pip3 install -r requirements.txt\n",
        "#!ls\n",
        "!apt install chromium-chromedriver\n",
        "\n",
        "#!. \"scripts/download_gecko_driver_linux.sh\""
      ],
      "execution_count": 1,
      "outputs": [
        {
          "output_type": "stream",
          "text": [
            "Cloning into 'pinterestDL'...\n",
            "remote: Enumerating objects: 27, done.\u001b[K\n",
            "remote: Counting objects: 100% (27/27), done.\u001b[K\n",
            "remote: Compressing objects: 100% (19/19), done.\u001b[K\n",
            "remote: Total 147 (delta 10), reused 18 (delta 6), pack-reused 120\n",
            "Receiving objects: 100% (147/147), 43.49 KiB | 6.21 MiB/s, done.\n",
            "Resolving deltas: 100% (69/69), done.\n",
            "/content/pinterestDL\n",
            "Collecting beautifulsoup4==4.8.1\n",
            "\u001b[?25l  Downloading https://files.pythonhosted.org/packages/3b/c8/a55eb6ea11cd7e5ac4bacdf92bac4693b90d3ba79268be16527555e186f0/beautifulsoup4-4.8.1-py3-none-any.whl (101kB)\n",
            "\u001b[K     |████████████████████████████████| 102kB 3.3MB/s \n",
            "\u001b[?25hCollecting Pillow==6.2.1\n",
            "\u001b[?25l  Downloading https://files.pythonhosted.org/packages/10/5c/0e94e689de2476c4c5e644a3bd223a1c1b9e2bdb7c510191750be74fa786/Pillow-6.2.1-cp36-cp36m-manylinux1_x86_64.whl (2.1MB)\n",
            "\u001b[K     |████████████████████████████████| 2.1MB 12.3MB/s \n",
            "\u001b[?25hCollecting selenium==3.141.0\n",
            "\u001b[?25l  Downloading https://files.pythonhosted.org/packages/80/d6/4294f0b4bce4de0abf13e17190289f9d0613b0a44e5dd6a7f5ca98459853/selenium-3.141.0-py2.py3-none-any.whl (904kB)\n",
            "\u001b[K     |████████████████████████████████| 911kB 43.6MB/s \n",
            "\u001b[?25hCollecting soupsieve==1.9.5\n",
            "  Downloading https://files.pythonhosted.org/packages/81/94/03c0f04471fc245d08d0a99f7946ac228ca98da4fa75796c507f61e688c2/soupsieve-1.9.5-py2.py3-none-any.whl\n",
            "Collecting urllib3==1.25.6\n",
            "\u001b[?25l  Downloading https://files.pythonhosted.org/packages/e0/da/55f51ea951e1b7c63a579c09dd7db825bb730ec1fe9c0180fc77bfb31448/urllib3-1.25.6-py2.py3-none-any.whl (125kB)\n",
            "\u001b[K     |████████████████████████████████| 133kB 53.5MB/s \n",
            "\u001b[31mERROR: requests 2.21.0 has requirement urllib3<1.25,>=1.21.1, but you'll have urllib3 1.25.6 which is incompatible.\u001b[0m\n",
            "\u001b[31mERROR: kaggle 1.5.6 has requirement urllib3<1.25,>=1.21.1, but you'll have urllib3 1.25.6 which is incompatible.\u001b[0m\n",
            "\u001b[31mERROR: datascience 0.10.6 has requirement folium==0.2.1, but you'll have folium 0.8.3 which is incompatible.\u001b[0m\n",
            "\u001b[31mERROR: albumentations 0.1.12 has requirement imgaug<0.2.7,>=0.2.5, but you'll have imgaug 0.2.9 which is incompatible.\u001b[0m\n",
            "\u001b[?25hInstalling collected packages: soupsieve, beautifulsoup4, Pillow, urllib3, selenium\n",
            "  Found existing installation: beautifulsoup4 4.6.3\n",
            "    Uninstalling beautifulsoup4-4.6.3:\n",
            "      Successfully uninstalled beautifulsoup4-4.6.3\n",
            "  Found existing installation: Pillow 6.2.2\n",
            "    Uninstalling Pillow-6.2.2:\n",
            "      Successfully uninstalled Pillow-6.2.2\n",
            "  Found existing installation: urllib3 1.24.3\n",
            "    Uninstalling urllib3-1.24.3:\n",
            "      Successfully uninstalled urllib3-1.24.3\n",
            "Successfully installed Pillow-6.2.1 beautifulsoup4-4.8.1 selenium-3.141.0 soupsieve-1.9.5 urllib3-1.25.6\n"
          ],
          "name": "stdout"
        },
        {
          "output_type": "display_data",
          "data": {
            "application/vnd.colab-display-data+json": {
              "pip_warning": {
                "packages": [
                  "PIL",
                  "urllib3"
                ]
              }
            }
          },
          "metadata": {
            "tags": []
          }
        },
        {
          "output_type": "stream",
          "text": [
            "Reading package lists... Done\n",
            "Building dependency tree       \n",
            "Reading state information... Done\n",
            "The following package was automatically installed and is no longer required:\n",
            "  libnvidia-common-430\n",
            "Use 'apt autoremove' to remove it.\n",
            "The following additional packages will be installed:\n",
            "  chromium-browser chromium-browser-l10n chromium-codecs-ffmpeg-extra\n",
            "Suggested packages:\n",
            "  webaccounts-chromium-extension unity-chromium-extension adobe-flashplugin\n",
            "The following NEW packages will be installed:\n",
            "  chromium-browser chromium-browser-l10n chromium-chromedriver\n",
            "  chromium-codecs-ffmpeg-extra\n",
            "0 upgraded, 4 newly installed, 0 to remove and 7 not upgraded.\n",
            "Need to get 72.7 MB of archives.\n",
            "After this operation, 259 MB of additional disk space will be used.\n",
            "Get:1 http://archive.ubuntu.com/ubuntu bionic-updates/universe amd64 chromium-codecs-ffmpeg-extra amd64 79.0.3945.79-0ubuntu0.18.04.1 [1,079 kB]\n",
            "Get:2 http://archive.ubuntu.com/ubuntu bionic-updates/universe amd64 chromium-browser amd64 79.0.3945.79-0ubuntu0.18.04.1 [64.5 MB]\n",
            "Get:3 http://archive.ubuntu.com/ubuntu bionic-updates/universe amd64 chromium-browser-l10n all 79.0.3945.79-0ubuntu0.18.04.1 [3,094 kB]\n",
            "Get:4 http://archive.ubuntu.com/ubuntu bionic-updates/universe amd64 chromium-chromedriver amd64 79.0.3945.79-0ubuntu0.18.04.1 [3,976 kB]\n",
            "Fetched 72.7 MB in 5s (15.0 MB/s)\n",
            "Selecting previously unselected package chromium-codecs-ffmpeg-extra.\n",
            "(Reading database ... 135004 files and directories currently installed.)\n",
            "Preparing to unpack .../chromium-codecs-ffmpeg-extra_79.0.3945.79-0ubuntu0.18.04.1_amd64.deb ...\n",
            "Unpacking chromium-codecs-ffmpeg-extra (79.0.3945.79-0ubuntu0.18.04.1) ...\n",
            "Selecting previously unselected package chromium-browser.\n",
            "Preparing to unpack .../chromium-browser_79.0.3945.79-0ubuntu0.18.04.1_amd64.deb ...\n",
            "Unpacking chromium-browser (79.0.3945.79-0ubuntu0.18.04.1) ...\n",
            "Selecting previously unselected package chromium-browser-l10n.\n",
            "Preparing to unpack .../chromium-browser-l10n_79.0.3945.79-0ubuntu0.18.04.1_all.deb ...\n",
            "Unpacking chromium-browser-l10n (79.0.3945.79-0ubuntu0.18.04.1) ...\n",
            "Selecting previously unselected package chromium-chromedriver.\n",
            "Preparing to unpack .../chromium-chromedriver_79.0.3945.79-0ubuntu0.18.04.1_amd64.deb ...\n",
            "Unpacking chromium-chromedriver (79.0.3945.79-0ubuntu0.18.04.1) ...\n",
            "Setting up chromium-codecs-ffmpeg-extra (79.0.3945.79-0ubuntu0.18.04.1) ...\n",
            "Setting up chromium-browser (79.0.3945.79-0ubuntu0.18.04.1) ...\n",
            "update-alternatives: using /usr/bin/chromium-browser to provide /usr/bin/x-www-browser (x-www-browser) in auto mode\n",
            "update-alternatives: using /usr/bin/chromium-browser to provide /usr/bin/gnome-www-browser (gnome-www-browser) in auto mode\n",
            "Setting up chromium-chromedriver (79.0.3945.79-0ubuntu0.18.04.1) ...\n",
            "Setting up chromium-browser-l10n (79.0.3945.79-0ubuntu0.18.04.1) ...\n",
            "Processing triggers for hicolor-icon-theme (0.17-2) ...\n",
            "Processing triggers for mime-support (3.60ubuntu1) ...\n",
            "Processing triggers for man-db (2.8.3-2ubuntu0.1) ...\n"
          ],
          "name": "stdout"
        }
      ]
    },
    {
      "cell_type": "code",
      "metadata": {
        "id": "s636PTYmZi9q",
        "colab_type": "code",
        "colab": {
          "base_uri": "https://localhost:8080/",
          "height": 34
        },
        "outputId": "4206607b-70c9-459f-f926-8a7a36465683"
      },
      "source": [
        "!ls"
      ],
      "execution_count": 5,
      "outputs": [
        {
          "output_type": "stream",
          "text": [
            "pinterestDL  sample_data\n"
          ],
          "name": "stdout"
        }
      ]
    },
    {
      "cell_type": "code",
      "metadata": {
        "id": "zdvx-Udw2v3T",
        "colab_type": "code",
        "colab": {
          "base_uri": "https://localhost:8080/",
          "height": 1000
        },
        "outputId": "5884f37a-e0c6-404e-9da7-97c89259422f"
      },
      "source": [
        "! ./pinterest-dl.py \"https://tr.pinterest.com/search/pins/?q=portre&rs=typed&term_meta[]=portre%7Ctyped\" \"PinImages\""
      ],
      "execution_count": 2,
      "outputs": [
        {
          "output_type": "stream",
          "text": [
            "[01:09:37] INFO: Found board 'portre' with inf pins\n",
            "[01:09:37] INFO: Starting download...\n",
            "[01:09:45] INFO: Completed 16 pins.\n",
            "[01:09:48] WARNING: Aborted, download may be incomplete.\n",
            "[01:09:49] WARNING: Retrying (Retry(total=2, connect=None, read=None, redirect=None, status=None)) after connection broken by 'NewConnectionError('<urllib3.connection.HTTPConnection object at 0x7ff42d802eb8>: Failed to establish a new connection: [Errno 111] Connection refused',)': /session/f1c358c6cd0b6ad6b8a65382eadafdba/window\n",
            "[01:09:49] WARNING: Retrying (Retry(total=1, connect=None, read=None, redirect=None, status=None)) after connection broken by 'NewConnectionError('<urllib3.connection.HTTPConnection object at 0x7ff42d2edef0>: Failed to establish a new connection: [Errno 111] Connection refused',)': /session/f1c358c6cd0b6ad6b8a65382eadafdba/window\n",
            "[01:09:49] WARNING: Retrying (Retry(total=0, connect=None, read=None, redirect=None, status=None)) after connection broken by 'NewConnectionError('<urllib3.connection.HTTPConnection object at 0x7ff42b661198>: Failed to establish a new connection: [Errno 111] Connection refused',)': /session/f1c358c6cd0b6ad6b8a65382eadafdba/window\n",
            "Traceback (most recent call last):\n",
            "  File \"./pinterest-dl.py\", line 88, in <module>\n",
            "    skip_tolerance=arguments.skip_limit)\n",
            "  File \"/content/pinterestDL/pinterestDL/pinterest_downloader.py\", line 317, in download_board\n",
            "    for fut in concurrent.futures.as_completed(future_to_url):\n",
            "  File \"/usr/lib/python3.6/concurrent/futures/_base.py\", line 240, in as_completed\n",
            "    waiter.event.wait(wait_timeout)\n",
            "  File \"/usr/lib/python3.6/threading.py\", line 551, in wait\n",
            "    signaled = self._cond.wait(timeout)\n",
            "  File \"/usr/lib/python3.6/threading.py\", line 295, in wait\n",
            "    waiter.acquire()\n",
            "  File \"./pinterest-dl.py\", line 24, in handle_sig_int\n",
            "    sys.exit(0)\n",
            "SystemExit: 0\n",
            "\n",
            "During handling of the above exception, another exception occurred:\n",
            "\n",
            "Traceback (most recent call last):\n",
            "  File \"/usr/local/lib/python3.6/dist-packages/urllib3/connection.py\", line 157, in _new_conn\n",
            "    (self._dns_host, self.port), self.timeout, **extra_kw\n",
            "  File \"/usr/local/lib/python3.6/dist-packages/urllib3/util/connection.py\", line 84, in create_connection\n",
            "    raise err\n",
            "  File \"/usr/local/lib/python3.6/dist-packages/urllib3/util/connection.py\", line 74, in create_connection\n",
            "    sock.connect(sa)\n",
            "ConnectionRefusedError: [Errno 111] Connection refused\n",
            "\n",
            "During handling of the above exception, another exception occurred:\n",
            "\n",
            "Traceback (most recent call last):\n",
            "  File \"/usr/local/lib/python3.6/dist-packages/urllib3/connectionpool.py\", line 672, in urlopen\n",
            "    chunked=chunked,\n",
            "  File \"/usr/local/lib/python3.6/dist-packages/urllib3/connectionpool.py\", line 387, in _make_request\n",
            "    conn.request(method, url, **httplib_request_kw)\n",
            "  File \"/usr/lib/python3.6/http/client.py\", line 1254, in request\n",
            "    self._send_request(method, url, body, headers, encode_chunked)\n",
            "  File \"/usr/lib/python3.6/http/client.py\", line 1300, in _send_request\n",
            "    self.endheaders(body, encode_chunked=encode_chunked)\n",
            "  File \"/usr/lib/python3.6/http/client.py\", line 1249, in endheaders\n",
            "    self._send_output(message_body, encode_chunked=encode_chunked)\n",
            "  File \"/usr/lib/python3.6/http/client.py\", line 1036, in _send_output\n",
            "    self.send(msg)\n",
            "  File \"/usr/lib/python3.6/http/client.py\", line 974, in send\n",
            "    self.connect()\n",
            "  File \"/usr/local/lib/python3.6/dist-packages/urllib3/connection.py\", line 184, in connect\n",
            "    conn = self._new_conn()\n",
            "  File \"/usr/local/lib/python3.6/dist-packages/urllib3/connection.py\", line 169, in _new_conn\n",
            "    self, \"Failed to establish a new connection: %s\" % e\n",
            "urllib3.exceptions.NewConnectionError: <urllib3.connection.HTTPConnection object at 0x7ff42a803a58>: Failed to establish a new connection: [Errno 111] Connection refused\n",
            "\n",
            "During handling of the above exception, another exception occurred:\n",
            "\n",
            "Traceback (most recent call last):\n",
            "  File \"./pinterest-dl.py\", line 88, in <module>\n",
            "    skip_tolerance=arguments.skip_limit)\n",
            "  File \"/content/pinterestDL/pinterestDL/pinterest_downloader.py\", line 253, in __exit__\n",
            "    self.browser.close()\n",
            "  File \"/usr/local/lib/python3.6/dist-packages/selenium/webdriver/remote/webdriver.py\", line 688, in close\n",
            "    self.execute(Command.CLOSE)\n",
            "  File \"/usr/local/lib/python3.6/dist-packages/selenium/webdriver/remote/webdriver.py\", line 319, in execute\n",
            "    response = self.command_executor.execute(driver_command, params)\n",
            "  File \"/usr/local/lib/python3.6/dist-packages/selenium/webdriver/remote/remote_connection.py\", line 374, in execute\n",
            "    return self._request(command_info[0], url, body=data)\n",
            "  File \"/usr/local/lib/python3.6/dist-packages/selenium/webdriver/remote/remote_connection.py\", line 397, in _request\n",
            "    resp = self._conn.request(method, url, body=body, headers=headers)\n",
            "  File \"/usr/local/lib/python3.6/dist-packages/urllib3/request.py\", line 76, in request\n",
            "    method, url, fields=fields, headers=headers, **urlopen_kw\n",
            "  File \"/usr/local/lib/python3.6/dist-packages/urllib3/request.py\", line 97, in request_encode_url\n",
            "    return self.urlopen(method, url, **extra_kw)\n",
            "  File \"/usr/local/lib/python3.6/dist-packages/urllib3/poolmanager.py\", line 330, in urlopen\n",
            "    response = conn.urlopen(method, u.request_uri, **kw)\n",
            "  File \"/usr/local/lib/python3.6/dist-packages/urllib3/connectionpool.py\", line 762, in urlopen\n",
            "    **response_kw\n",
            "  File \"/usr/local/lib/python3.6/dist-packages/urllib3/connectionpool.py\", line 762, in urlopen\n",
            "    **response_kw\n",
            "  File \"/usr/local/lib/python3.6/dist-packages/urllib3/connectionpool.py\", line 762, in urlopen\n",
            "    **response_kw\n",
            "  File \"/usr/local/lib/python3.6/dist-packages/urllib3/connectionpool.py\", line 720, in urlopen\n",
            "    method, url, error=e, _pool=self, _stacktrace=sys.exc_info()[2]\n",
            "  File \"/usr/local/lib/python3.6/dist-packages/urllib3/util/retry.py\", line 436, in increment\n",
            "    raise MaxRetryError(_pool, url, error or ResponseError(cause))\n",
            "urllib3.exceptions.MaxRetryError: HTTPConnectionPool(host='127.0.0.1', port=33305): Max retries exceeded with url: /session/f1c358c6cd0b6ad6b8a65382eadafdba/window (Caused by NewConnectionError('<urllib3.connection.HTTPConnection object at 0x7ff42a803a58>: Failed to establish a new connection: [Errno 111] Connection refused',))\n"
          ],
          "name": "stdout"
        }
      ]
    }
  ]
}